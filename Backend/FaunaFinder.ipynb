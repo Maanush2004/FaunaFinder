{
  "nbformat": 4,
  "nbformat_minor": 0,
  "metadata": {
    "colab": {
      "provenance": [],
      "gpuType": "V28"
    },
    "kernelspec": {
      "name": "python3",
      "display_name": "Python 3"
    },
    "language_info": {
      "name": "python"
    },
    "accelerator": "TPU"
  },
  "cells": [
    {
      "cell_type": "markdown",
      "source": [
        "**Import required modules**"
      ],
      "metadata": {
        "id": "IMsiqvvDZn-m"
      }
    },
    {
      "cell_type": "code",
      "source": [
        "import numpy as np\n",
        "import pandas as pd\n",
        "import tensorflow as tf\n",
        "from tensorflow.keras import layers\n",
        "from sklearn.preprocessing import LabelEncoder"
      ],
      "metadata": {
        "id": "WqEinonaG-gE"
      },
      "execution_count": null,
      "outputs": []
    },
    {
      "cell_type": "markdown",
      "source": [
        "**Setup TPU**"
      ],
      "metadata": {
        "id": "WzRtQj80Ztfd"
      }
    },
    {
      "cell_type": "code",
      "source": [
        "try:\n",
        "    resolver = tf.distribute.cluster_resolver.TPUClusterResolver()\n",
        "    tf.config.experimental_connect_to_cluster(resolver)\n",
        "    tf.tpu.experimental.initialize_tpu_system(resolver)\n",
        "    strategy = tf.distribute.TPUStrategy(resolver)\n",
        "    print(\"Running on TPU:\", resolver.cluster_spec().as_dict())\n",
        "except ValueError:\n",
        "    strategy = tf.distribute.get_strategy()\n",
        "print(f\"Running on {strategy.num_replicas_in_sync} replicas\")"
      ],
      "metadata": {
        "colab": {
          "base_uri": "https://localhost:8080/"
        },
        "id": "RZ-pRHFkHCuz",
        "outputId": "6e2a3452-7fcf-4c18-d4ab-b7693cc683f8"
      },
      "execution_count": null,
      "outputs": [
        {
          "output_type": "stream",
          "name": "stdout",
          "text": [
            "Running on TPU: {}\n",
            "Running on 8 replicas\n"
          ]
        }
      ]
    },
    {
      "cell_type": "markdown",
      "source": [
        "**Define Batch Size**"
      ],
      "metadata": {
        "id": "05OnGbPwZzZp"
      }
    },
    {
      "cell_type": "code",
      "source": [
        "batch_size = 256"
      ],
      "metadata": {
        "id": "VOGBb4tIHF_Y"
      },
      "execution_count": null,
      "outputs": []
    },
    {
      "cell_type": "markdown",
      "source": [
        "**Paths for Annotations**"
      ],
      "metadata": {
        "id": "2KOW_G60Z5G9"
      }
    },
    {
      "cell_type": "code",
      "source": [
        "train_annotation_path = \"Annotation/Train_annotation.csv\"\n",
        "val_annotation_path = \"Annotation/Val_annotation.csv\""
      ],
      "metadata": {
        "id": "kH5X9Ep7HLas"
      },
      "execution_count": null,
      "outputs": []
    },
    {
      "cell_type": "markdown",
      "source": [
        "**Load Annotations**"
      ],
      "metadata": {
        "id": "vuGBG5WHZ9YR"
      }
    },
    {
      "cell_type": "code",
      "source": [
        "train_annotations = pd.read_csv(train_annotation_path)\n",
        "val_annotations = pd.read_csv(val_annotation_path)"
      ],
      "metadata": {
        "colab": {
          "base_uri": "https://localhost:8080/"
        },
        "id": "9btINxMTHOHz",
        "outputId": "e7884910-38e7-4e7f-8fb6-6a1da8d99ef5"
      },
      "execution_count": null,
      "outputs": [
        {
          "output_type": "stream",
          "name": "stderr",
          "text": [
            "<ipython-input-6-249c258d7047>:2: DtypeWarning: Columns (33,38,43,48) have mixed types. Specify dtype option on import or set low_memory=False.\n",
            "  train_annotations = pd.read_csv(train_annotation_path)\n",
            "<ipython-input-6-249c258d7047>:3: DtypeWarning: Columns (98) have mixed types. Specify dtype option on import or set low_memory=False.\n",
            "  val_annotations = pd.read_csv(val_annotation_path)\n"
          ]
        }
      ]
    },
    {
      "cell_type": "markdown",
      "source": [
        "**Update file paths and append extension**"
      ],
      "metadata": {
        "id": "QZx5jc-gaBo7"
      }
    },
    {
      "cell_type": "code",
      "source": [
        "train_annotations['File_location'] = \"Train/\" + train_annotations['File_location'] + \".JPEG\"\n",
        "val_annotations['File_location'] = \"val/\" + val_annotations['File_location'] + \".JPEG\"\n"
      ],
      "metadata": {
        "id": "nxqzOtlGHQMR"
      },
      "execution_count": null,
      "outputs": []
    },
    {
      "cell_type": "markdown",
      "source": [
        "**Process Labels**"
      ],
      "metadata": {
        "id": "ETV1H2kcaS_b"
      }
    },
    {
      "cell_type": "code",
      "source": [
        "train_labels_list = list(map(lambda x: x.title(), train_annotations['Name_1'].tolist()))\n",
        "val_labels_list = list(map(lambda x: x.title(), val_annotations['Name_1'].tolist()))\n",
        "\n",
        "label_encoder = LabelEncoder()\n",
        "train_labels_encoded = label_encoder.fit_transform(train_labels_list)\n",
        "val_labels_encoded = label_encoder.transform(val_labels_list)"
      ],
      "metadata": {
        "id": "TxTatAR6HSJN"
      },
      "execution_count": null,
      "outputs": []
    },
    {
      "cell_type": "markdown",
      "source": [
        "**Function for preprocessing**"
      ],
      "metadata": {
        "id": "NBw33ERVacBF"
      }
    },
    {
      "cell_type": "code",
      "source": [
        "# Image loading function\n",
        "def load_and_preprocess_image(file_path, bbox):\n",
        "    image = tf.io.read_file(file_path)\n",
        "    image = tf.image.decode_jpeg(image, channels=3)\n",
        "\n",
        "    # Extract bounding box coordinates\n",
        "    xmin, ymin, xmax, ymax = tf.unstack(bbox)\n",
        "\n",
        "    # Convert bounding box to integer and crop\n",
        "    xmin = tf.cast(xmin, tf.int32)\n",
        "    ymin = tf.cast(ymin, tf.int32)\n",
        "    width = tf.cast(xmax - xmin, tf.int32)\n",
        "    height = tf.cast(ymax - ymin, tf.int32)\n",
        "\n",
        "    image = tf.image.crop_to_bounding_box(image, ymin, xmin, height, width)\n",
        "\n",
        "    # Resize the image to (299, 299) for Xception\n",
        "    image = tf.image.resize(image, (299, 299))\n",
        "\n",
        "    return image"
      ],
      "metadata": {
        "id": "d2dNZxwaHWyV"
      },
      "execution_count": null,
      "outputs": []
    },
    {
      "cell_type": "markdown",
      "source": [
        "**Create datasets for training and validation**"
      ],
      "metadata": {
        "id": "u4uYiYaPahzY"
      }
    },
    {
      "cell_type": "code",
      "source": [
        "AUTO = tf.data.AUTOTUNE\n",
        "\n",
        "def create_dataset(image_paths, labels, bbox_annotations, is_training=False):\n",
        "    dataset = tf.data.Dataset.from_tensor_slices((image_paths, labels, bbox_annotations))\n",
        "\n",
        "    if is_training:\n",
        "        dataset = dataset.shuffle(buffer_size=1000)\n",
        "\n",
        "    dataset = dataset.map(lambda x, y, bbox: (load_and_preprocess_image(x, bbox), y),\n",
        "                          num_parallel_calls=AUTO)\n",
        "    dataset = dataset.batch(batch_size, drop_remainder=True)\n",
        "    dataset = dataset.map(lambda x, y: (tf.keras.applications.xception.preprocess_input(x), y),\n",
        "                          num_parallel_calls=AUTO)\n",
        "    return dataset.prefetch(AUTO)\n",
        "\n",
        "# Bounding Box information\n",
        "train_bboxes = train_annotations[['Xmin_1', 'Ymin_1', 'Xmax_1', 'Ymax_1']].values.tolist()\n",
        "val_bboxes = val_annotations[['Xmin_1', 'Ymin_1', 'Xmax_1', 'Ymax_1']].values.tolist()\n",
        "\n",
        "train_ds = create_dataset(train_annotations['File_location'].tolist(),\n",
        "                          train_labels_encoded, train_bboxes, is_training=True)\n",
        "validation_ds = create_dataset(val_annotations['File_location'].tolist(),\n",
        "                               val_labels_encoded, val_bboxes)\n",
        "\n",
        "# Check dataset sizes\n",
        "print(f\"Number of training samples: {train_ds.cardinality()}\")\n",
        "print(f\"Number of validation samples: {validation_ds.cardinality()}\")"
      ],
      "metadata": {
        "id": "XbKyXL5sHZBF",
        "colab": {
          "base_uri": "https://localhost:8080/"
        },
        "outputId": "3fd8da9d-d26d-4c12-f078-885900c795c4"
      },
      "execution_count": null,
      "outputs": [
        {
          "output_type": "stream",
          "name": "stdout",
          "text": [
            "Number of training samples: 851\n",
            "Number of validation samples: 77\n"
          ]
        }
      ]
    },
    {
      "cell_type": "markdown",
      "source": [
        "**Create Model**"
      ],
      "metadata": {
        "id": "qiNd-M0uaqFv"
      }
    },
    {
      "cell_type": "code",
      "source": [
        "# Create model within TPU strategy scope\n",
        "with strategy.scope():\n",
        "    inputs = tf.keras.Input(shape=(299, 299, 3))\n",
        "    base_model = tf.keras.applications.Xception(\n",
        "        weights=\"imagenet\",\n",
        "        input_shape=(299, 299, 3),\n",
        "        include_top=False,\n",
        "        pooling='max'\n",
        "    )\n",
        "    base_model.trainable = False\n",
        "\n",
        "    x = base_model(inputs, training=False)\n",
        "    x = layers.BatchNormalization()(x)\n",
        "    x = layers.Dense(512, activation='relu', kernel_regularizer=tf.keras.regularizers.l2(0.001))(x)\n",
        "    x = layers.Dropout(0.5)(x)\n",
        "    x = layers.BatchNormalization()(x)\n",
        "    x = layers.Dense(256, activation='relu', kernel_regularizer=tf.keras.regularizers.l2(0.001))(x)\n",
        "    x = layers.Dropout(0.5)(x)\n",
        "    x = layers.BatchNormalization()(x)\n",
        "    outputs = layers.Dense(len(label_encoder.classes_), activation='softmax')(x)\n",
        "\n",
        "    model = tf.keras.Model(inputs, outputs)\n",
        "\n",
        "    model.compile(\n",
        "        optimizer=tf.keras.optimizers.Adam(learning_rate=0.0001),\n",
        "        loss=tf.keras.losses.SparseCategoricalCrossentropy(),\n",
        "        metrics=[\"accuracy\"],\n",
        "    )"
      ],
      "metadata": {
        "id": "TliprhviHbuv",
        "colab": {
          "base_uri": "https://localhost:8080/"
        },
        "outputId": "fdc970b3-f5c1-465b-b747-ae2cdbc132c1"
      },
      "execution_count": null,
      "outputs": [
        {
          "output_type": "stream",
          "name": "stdout",
          "text": [
            "Downloading data from https://storage.googleapis.com/tensorflow/keras-applications/xception/xception_weights_tf_dim_ordering_tf_kernels_notop.h5\n",
            "83683744/83683744 [==============================] - 0s 0us/step\n"
          ]
        }
      ]
    },
    {
      "cell_type": "markdown",
      "source": [
        "**Save labels to text file**"
      ],
      "metadata": {
        "id": "w_tveA8datXe"
      }
    },
    {
      "cell_type": "code",
      "source": [
        "with tf.io.gfile.GFile(\"labels.txt\", \"w\") as f:\n",
        "    for l in label_encoder.classes_:\n",
        "        f.write(f\"{l}\\n\")"
      ],
      "metadata": {
        "id": "yCnLu7bdHdqb"
      },
      "execution_count": null,
      "outputs": []
    },
    {
      "cell_type": "markdown",
      "source": [
        "**Model Summary**"
      ],
      "metadata": {
        "id": "-a_dyA0MaxbN"
      }
    },
    {
      "cell_type": "code",
      "source": [
        "model.summary(show_trainable=True)"
      ],
      "metadata": {
        "colab": {
          "base_uri": "https://localhost:8080/"
        },
        "id": "6DE3PRS8HgMc",
        "outputId": "9114381a-a5a1-41da-90fb-44fa0663ee31"
      },
      "execution_count": null,
      "outputs": [
        {
          "output_type": "stream",
          "name": "stdout",
          "text": [
            "Model: \"model\"\n",
            "____________________________________________________________________________\n",
            " Layer (type)                Output Shape              Param #   Trainable  \n",
            "============================================================================\n",
            " input_1 (InputLayer)        [(None, 299, 299, 3)]     0         Y          \n",
            "                                                                            \n",
            " xception (Functional)       (None, 2048)              2086148   N          \n",
            "                                                       0                    \n",
            "                                                                            \n",
            " batch_normalization_4 (Bat  (None, 2048)              8192      Y          \n",
            " chNormalization)                                                           \n",
            "                                                                            \n",
            " dense (Dense)               (None, 512)               1049088   Y          \n",
            "                                                                            \n",
            " dropout (Dropout)           (None, 512)               0         Y          \n",
            "                                                                            \n",
            " batch_normalization_5 (Bat  (None, 512)               2048      Y          \n",
            " chNormalization)                                                           \n",
            "                                                                            \n",
            " dense_1 (Dense)             (None, 256)               131328    Y          \n",
            "                                                                            \n",
            " dropout_1 (Dropout)         (None, 256)               0         Y          \n",
            "                                                                            \n",
            " batch_normalization_6 (Bat  (None, 256)               1024      Y          \n",
            " chNormalization)                                                           \n",
            "                                                                            \n",
            " dense_2 (Dense)             (None, 398)               102286    Y          \n",
            "                                                                            \n",
            "============================================================================\n",
            "Total params: 22155446 (84.52 MB)\n",
            "Trainable params: 1288334 (4.91 MB)\n",
            "Non-trainable params: 20867112 (79.60 MB)\n",
            "____________________________________________________________________________\n"
          ]
        }
      ]
    },
    {
      "cell_type": "markdown",
      "source": [
        "**Training**"
      ],
      "metadata": {
        "id": "Bgi2dJS2a17i"
      }
    },
    {
      "cell_type": "code",
      "source": [
        "epochs = 50\n",
        "model.fit(\n",
        "    train_ds,\n",
        "    epochs=epochs,\n",
        "    validation_data=validation_ds,\n",
        "    callbacks=[\n",
        "        tf.keras.callbacks.EarlyStopping(\n",
        "            monitor=\"val_loss\", patience=5, restore_best_weights=True\n",
        "        ),\n",
        "        tf.keras.callbacks.ReduceLROnPlateau(\n",
        "            monitor='val_loss', factor=0.5, patience=3, mode='min'\n",
        "        )\n",
        "    ]\n",
        ")"
      ],
      "metadata": {
        "colab": {
          "base_uri": "https://localhost:8080/"
        },
        "id": "JP_oObR8Hh6G",
        "outputId": "7caa7dce-29bc-4a0d-b8df-4c8c64032f12"
      },
      "execution_count": null,
      "outputs": [
        {
          "output_type": "stream",
          "name": "stdout",
          "text": [
            "Epoch 1/50\n",
            "851/851 [==============================] - 137s 141ms/step - loss: 7.1431 - accuracy: 0.0057 - val_loss: 5.5521 - val_accuracy: 0.5443 - lr: 1.0000e-04\n",
            "Epoch 2/50\n",
            "851/851 [==============================] - 110s 129ms/step - loss: 6.1379 - accuracy: 0.0948 - val_loss: 4.2288 - val_accuracy: 0.6920 - lr: 1.0000e-04\n",
            "Epoch 3/50\n",
            "851/851 [==============================] - 109s 127ms/step - loss: 5.3369 - accuracy: 0.2172 - val_loss: 3.1939 - val_accuracy: 0.7354 - lr: 1.0000e-04\n",
            "Epoch 4/50\n",
            "851/851 [==============================] - 109s 128ms/step - loss: 4.6144 - accuracy: 0.3332 - val_loss: 2.4796 - val_accuracy: 0.7507 - lr: 1.0000e-04\n",
            "Epoch 5/50\n",
            "851/851 [==============================] - 109s 127ms/step - loss: 3.9803 - accuracy: 0.4321 - val_loss: 2.0458 - val_accuracy: 0.7448 - lr: 1.0000e-04\n",
            "Epoch 6/50\n",
            "851/851 [==============================] - 108s 127ms/step - loss: 3.4563 - accuracy: 0.5093 - val_loss: 1.7855 - val_accuracy: 0.7375 - lr: 1.0000e-04\n",
            "Epoch 7/50\n",
            "851/851 [==============================] - 110s 129ms/step - loss: 3.0323 - accuracy: 0.5662 - val_loss: 1.6292 - val_accuracy: 0.7317 - lr: 1.0000e-04\n",
            "Epoch 8/50\n",
            "851/851 [==============================] - 108s 127ms/step - loss: 2.7055 - accuracy: 0.6051 - val_loss: 1.5303 - val_accuracy: 0.7267 - lr: 1.0000e-04\n",
            "Epoch 9/50\n",
            "851/851 [==============================] - 109s 127ms/step - loss: 2.4484 - accuracy: 0.6355 - val_loss: 1.4686 - val_accuracy: 0.7227 - lr: 1.0000e-04\n",
            "Epoch 10/50\n",
            "851/851 [==============================] - 108s 126ms/step - loss: 2.2587 - accuracy: 0.6567 - val_loss: 1.4323 - val_accuracy: 0.7214 - lr: 1.0000e-04\n",
            "Epoch 11/50\n",
            "851/851 [==============================] - 109s 128ms/step - loss: 2.0992 - accuracy: 0.6746 - val_loss: 1.4084 - val_accuracy: 0.7188 - lr: 1.0000e-04\n",
            "Epoch 12/50\n",
            "851/851 [==============================] - 107s 126ms/step - loss: 1.9686 - accuracy: 0.6919 - val_loss: 1.3996 - val_accuracy: 0.7163 - lr: 1.0000e-04\n",
            "Epoch 13/50\n",
            "851/851 [==============================] - 106s 124ms/step - loss: 1.8587 - accuracy: 0.7051 - val_loss: 1.3979 - val_accuracy: 0.7134 - lr: 1.0000e-04\n",
            "Epoch 14/50\n",
            "851/851 [==============================] - 104s 122ms/step - loss: 1.7686 - accuracy: 0.7167 - val_loss: 1.4014 - val_accuracy: 0.7092 - lr: 1.0000e-04\n",
            "Epoch 15/50\n",
            "851/851 [==============================] - 104s 121ms/step - loss: 1.6890 - accuracy: 0.7277 - val_loss: 1.4061 - val_accuracy: 0.7057 - lr: 1.0000e-04\n",
            "Epoch 16/50\n",
            "851/851 [==============================] - 104s 122ms/step - loss: 1.6200 - accuracy: 0.7372 - val_loss: 1.4215 - val_accuracy: 0.7021 - lr: 1.0000e-04\n",
            "Epoch 17/50\n",
            "851/851 [==============================] - 105s 123ms/step - loss: 1.4937 - accuracy: 0.7633 - val_loss: 1.1465 - val_accuracy: 0.7677 - lr: 5.0000e-05\n",
            "Epoch 18/50\n",
            "851/851 [==============================] - 103s 121ms/step - loss: 1.3891 - accuracy: 0.7861 - val_loss: 1.1338 - val_accuracy: 0.7697 - lr: 5.0000e-05\n",
            "Epoch 19/50\n",
            "851/851 [==============================] - 102s 119ms/step - loss: 1.3510 - accuracy: 0.7903 - val_loss: 1.1295 - val_accuracy: 0.7676 - lr: 5.0000e-05\n",
            "Epoch 20/50\n",
            "851/851 [==============================] - 100s 117ms/step - loss: 1.3105 - accuracy: 0.7967 - val_loss: 1.1349 - val_accuracy: 0.7633 - lr: 5.0000e-05\n",
            "Epoch 21/50\n",
            "851/851 [==============================] - 101s 119ms/step - loss: 1.2824 - accuracy: 0.7999 - val_loss: 1.1322 - val_accuracy: 0.7622 - lr: 5.0000e-05\n",
            "Epoch 22/50\n",
            "851/851 [==============================] - 99s 116ms/step - loss: 1.2491 - accuracy: 0.8040 - val_loss: 1.1342 - val_accuracy: 0.7597 - lr: 5.0000e-05\n",
            "Epoch 23/50\n",
            "851/851 [==============================] - 99s 116ms/step - loss: 1.1787 - accuracy: 0.8181 - val_loss: 1.0291 - val_accuracy: 0.7876 - lr: 2.5000e-05\n",
            "Epoch 24/50\n",
            "851/851 [==============================] - 99s 116ms/step - loss: 1.1405 - accuracy: 0.8262 - val_loss: 1.0146 - val_accuracy: 0.7914 - lr: 2.5000e-05\n",
            "Epoch 25/50\n",
            "851/851 [==============================] - 100s 117ms/step - loss: 1.1203 - accuracy: 0.8306 - val_loss: 1.0093 - val_accuracy: 0.7913 - lr: 2.5000e-05\n",
            "Epoch 26/50\n",
            "851/851 [==============================] - 99s 116ms/step - loss: 1.1075 - accuracy: 0.8306 - val_loss: 1.0069 - val_accuracy: 0.7911 - lr: 2.5000e-05\n",
            "Epoch 27/50\n",
            "851/851 [==============================] - 98s 115ms/step - loss: 1.0795 - accuracy: 0.8346 - val_loss: 1.0057 - val_accuracy: 0.7905 - lr: 2.5000e-05\n",
            "Epoch 28/50\n",
            "851/851 [==============================] - 99s 116ms/step - loss: 1.0686 - accuracy: 0.8364 - val_loss: 1.0022 - val_accuracy: 0.7890 - lr: 2.5000e-05\n",
            "Epoch 29/50\n",
            "851/851 [==============================] - 98s 115ms/step - loss: 1.0514 - accuracy: 0.8387 - val_loss: 1.0013 - val_accuracy: 0.7886 - lr: 2.5000e-05\n",
            "Epoch 30/50\n",
            "851/851 [==============================] - 97s 114ms/step - loss: 1.0425 - accuracy: 0.8390 - val_loss: 1.0006 - val_accuracy: 0.7882 - lr: 2.5000e-05\n",
            "Epoch 31/50\n",
            "851/851 [==============================] - 97s 113ms/step - loss: 1.0355 - accuracy: 0.8392 - val_loss: 1.0016 - val_accuracy: 0.7856 - lr: 2.5000e-05\n",
            "Epoch 32/50\n",
            "851/851 [==============================] - 96s 113ms/step - loss: 1.0172 - accuracy: 0.8421 - val_loss: 0.9985 - val_accuracy: 0.7854 - lr: 2.5000e-05\n",
            "Epoch 33/50\n",
            "851/851 [==============================] - 96s 113ms/step - loss: 1.0057 - accuracy: 0.8438 - val_loss: 1.0002 - val_accuracy: 0.7845 - lr: 2.5000e-05\n",
            "Epoch 34/50\n",
            "851/851 [==============================] - 98s 114ms/step - loss: 0.9912 - accuracy: 0.8454 - val_loss: 0.9967 - val_accuracy: 0.7845 - lr: 2.5000e-05\n",
            "Epoch 35/50\n",
            "851/851 [==============================] - 99s 116ms/step - loss: 0.9875 - accuracy: 0.8434 - val_loss: 0.9990 - val_accuracy: 0.7818 - lr: 2.5000e-05\n",
            "Epoch 36/50\n",
            "851/851 [==============================] - 98s 114ms/step - loss: 0.9770 - accuracy: 0.8465 - val_loss: 0.9948 - val_accuracy: 0.7829 - lr: 2.5000e-05\n",
            "Epoch 37/50\n",
            "851/851 [==============================] - 96s 113ms/step - loss: 0.9693 - accuracy: 0.8474 - val_loss: 0.9969 - val_accuracy: 0.7807 - lr: 2.5000e-05\n",
            "Epoch 38/50\n",
            "851/851 [==============================] - 98s 115ms/step - loss: 0.9556 - accuracy: 0.8489 - val_loss: 0.9983 - val_accuracy: 0.7798 - lr: 2.5000e-05\n",
            "Epoch 39/50\n",
            "851/851 [==============================] - 100s 117ms/step - loss: 0.9515 - accuracy: 0.8494 - val_loss: 0.9973 - val_accuracy: 0.7771 - lr: 2.5000e-05\n",
            "Epoch 40/50\n",
            "851/851 [==============================] - 98s 115ms/step - loss: 0.9120 - accuracy: 0.8566 - val_loss: 0.9572 - val_accuracy: 0.7920 - lr: 1.2500e-05\n",
            "Epoch 41/50\n",
            "851/851 [==============================] - 97s 114ms/step - loss: 0.8933 - accuracy: 0.8609 - val_loss: 0.9492 - val_accuracy: 0.7942 - lr: 1.2500e-05\n",
            "Epoch 42/50\n",
            "851/851 [==============================] - 97s 114ms/step - loss: 0.8949 - accuracy: 0.8600 - val_loss: 0.9433 - val_accuracy: 0.7955 - lr: 1.2500e-05\n",
            "Epoch 43/50\n",
            "851/851 [==============================] - 96s 113ms/step - loss: 0.8807 - accuracy: 0.8628 - val_loss: 0.9426 - val_accuracy: 0.7945 - lr: 1.2500e-05\n",
            "Epoch 44/50\n",
            "851/851 [==============================] - 97s 113ms/step - loss: 0.8814 - accuracy: 0.8621 - val_loss: 0.9415 - val_accuracy: 0.7938 - lr: 1.2500e-05\n",
            "Epoch 45/50\n",
            "851/851 [==============================] - 97s 113ms/step - loss: 0.8764 - accuracy: 0.8634 - val_loss: 0.9406 - val_accuracy: 0.7944 - lr: 1.2500e-05\n",
            "Epoch 46/50\n",
            "851/851 [==============================] - 97s 114ms/step - loss: 0.8704 - accuracy: 0.8635 - val_loss: 0.9398 - val_accuracy: 0.7942 - lr: 1.2500e-05\n",
            "Epoch 47/50\n",
            "851/851 [==============================] - 97s 113ms/step - loss: 0.8634 - accuracy: 0.8654 - val_loss: 0.9395 - val_accuracy: 0.7939 - lr: 1.2500e-05\n",
            "Epoch 48/50\n",
            "851/851 [==============================] - 96s 113ms/step - loss: 0.8599 - accuracy: 0.8652 - val_loss: 0.9419 - val_accuracy: 0.7928 - lr: 1.2500e-05\n",
            "Epoch 49/50\n",
            "851/851 [==============================] - 98s 115ms/step - loss: 0.8556 - accuracy: 0.8650 - val_loss: 0.9406 - val_accuracy: 0.7919 - lr: 1.2500e-05\n",
            "Epoch 50/50\n",
            "851/851 [==============================] - 98s 115ms/step - loss: 0.8508 - accuracy: 0.8657 - val_loss: 0.9398 - val_accuracy: 0.7913 - lr: 1.2500e-05\n"
          ]
        },
        {
          "output_type": "execute_result",
          "data": {
            "text/plain": [
              "<keras.src.callbacks.History at 0x7cd34c489630>"
            ]
          },
          "metadata": {},
          "execution_count": 14
        }
      ]
    },
    {
      "cell_type": "markdown",
      "source": [
        "**Save the model**"
      ],
      "metadata": {
        "id": "AHMFfJV4a7uJ"
      }
    },
    {
      "cell_type": "code",
      "source": [
        "model.save(\"model.keras\")"
      ],
      "metadata": {
        "id": "iiAoOtaeHjq8"
      },
      "execution_count": null,
      "outputs": []
    }
  ]
}